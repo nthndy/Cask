{
 "cells": [
  {
   "cell_type": "markdown",
   "id": "a4cf9a6b",
   "metadata": {},
   "source": [
    "# Napari image viewer\n",
    "\n",
    "Uses the octopuslite dask image loader to automatically sort and load images from multichannel time lapse experiments. Can also use btrack to load associated tracks."
   ]
  },
  {
   "cell_type": "code",
   "execution_count": 1,
   "id": "3a23b02f",
   "metadata": {},
   "outputs": [],
   "source": [
    "import napari\n",
    "from octopuslite import DaskOctopusLiteLoader"
   ]
  },
  {
   "cell_type": "markdown",
   "id": "9cc54637",
   "metadata": {},
   "source": [
    "## Load images"
   ]
  },
  {
   "cell_type": "code",
   "execution_count": 4,
   "id": "5206859a",
   "metadata": {
    "scrolled": true
   },
   "outputs": [
    {
     "data": {
      "text/plain": [
       "[<Channels.BRIGHTFIELD: 0>, <Channels.GFP: 1>, <Channels.RFP: 2>]"
      ]
     },
     "execution_count": 4,
     "metadata": {},
     "output_type": "execute_result"
    }
   ],
   "source": [
    "# define experiment ID and select a position\n",
    "expt = 'GV0795'\n",
    "pos = 'Pos8'\n",
    "# point to where the data is\n",
    "root_dir = '/Users/dayn/data/cc/kraken'\n",
    "image_path = f'{root_dir}/{expt}/{pos}_raw'\n",
    "# transform_path = f'{root_dir}/{expt}/{pos}/gfp_transform_tensor.npy'\n",
    "# tracks_path = f'{root_dir}/{expt}/{pos}/tracks.h5'\n",
    "# lazily load images\n",
    "images = DaskOctopusLiteLoader(image_path, \n",
    "                               # transforms = transform_path,\n",
    "                               crop = (1200,1600),\n",
    "                               remove_background = False)\n",
    "images.channels"
   ]
  },
  {
   "cell_type": "code",
   "execution_count": 5,
   "id": "6921a651",
   "metadata": {},
   "outputs": [],
   "source": [
    "gfp = images['gfp']\n",
    "rfp = images['rfp']\n",
    "# irfp = images['irfp']\n",
    "# masks = images['mask'].astype(int)"
   ]
  },
  {
   "cell_type": "markdown",
   "id": "5c17659d",
   "metadata": {},
   "source": [
    "### Add tracks"
   ]
  },
  {
   "cell_type": "code",
   "execution_count": 28,
   "id": "568a2f65",
   "metadata": {},
   "outputs": [],
   "source": [
    "import btrack\n",
    "from btrack.utils import tracks_to_napari"
   ]
  },
  {
   "cell_type": "code",
   "execution_count": 29,
   "id": "0612ea14",
   "metadata": {},
   "outputs": [
    {
     "name": "stderr",
     "output_type": "stream",
     "text": [
      "[INFO][2022/01/25 06:01:16 pm] Opening HDF file: /home/nathan/data/ND0011/Pos6/tracks.h5...\n",
      "[INFO][2022/01/25 06:01:16 pm] Loading tracks/obj_type_1\n",
      "[INFO][2022/01/25 06:01:16 pm] Loading objects/obj_type_1 (320077, 5) (320077 filtered: None)\n",
      "[INFO][2022/01/25 06:01:28 pm] Closing HDF file: /home/nathan/data/ND0011/Pos6/tracks.h5\n"
     ]
    }
   ],
   "source": [
    "with btrack.dataio.HDF5FileHandler(tracks_path, \n",
    "                                   'r', obj_type='obj_type_1'\n",
    "                                  ) as h:\n",
    "    tracks = h.tracks"
   ]
  },
  {
   "cell_type": "code",
   "execution_count": 40,
   "id": "2b98d28c",
   "metadata": {},
   "outputs": [],
   "source": [
    "view_tracks, properties, graph = tracks_to_napari(tracks, ndim = 2)"
   ]
  },
  {
   "cell_type": "markdown",
   "id": "603b486b",
   "metadata": {},
   "source": [
    "## Launch viewer"
   ]
  },
  {
   "cell_type": "code",
   "execution_count": 7,
   "id": "8ffa3640",
   "metadata": {},
   "outputs": [
    {
     "name": "stderr",
     "output_type": "stream",
     "text": [
      "2024-05-27 17:38:46.433 python[20341:349904] Warning: Window move completed without beginning\n",
      "2024-05-27 17:38:51.403 python[20341:349904] Warning: Window move completed without beginning\n"
     ]
    }
   ],
   "source": [
    "viewer = napari.Viewer()\n",
    "viewer.add_image(gfp, name=\"gfp\", \n",
    "                 contrast_limits=[0,255],\n",
    "                 blending = 'additive', colormap = 'green', scale = (0.3, 0.3))\n",
    "viewer.add_image(rfp, name=\"rfp\", \n",
    "                 contrast_limits=[0,55], \n",
    "                 blending = 'additive', colormap = 'magenta', scale = (0.3, 0.3))\n",
    "# viewer.add_image(irfp, name=\"irfp\", \n",
    "#                  contrast_limits=[0,255], \n",
    "#                  blending = 'additive', colormap = 'cyan')\n",
    "# viewer.add_labels(masks, name = 'masks')\n",
    "# viewer.add_tracks(view_tracks)\n",
    "\n",
    "viewer.scale_bar.visible = True\n",
    "viewer.scale_bar.unit = \"um\""
   ]
  }
 ],
 "metadata": {
  "kernelspec": {
   "display_name": "focaccia",
   "language": "python",
   "name": "focaccia"
  },
  "language_info": {
   "codemirror_mode": {
    "name": "ipython",
    "version": 3
   },
   "file_extension": ".py",
   "mimetype": "text/x-python",
   "name": "python",
   "nbconvert_exporter": "python",
   "pygments_lexer": "ipython3",
   "version": "3.10.13"
  }
 },
 "nbformat": 4,
 "nbformat_minor": 5
}
